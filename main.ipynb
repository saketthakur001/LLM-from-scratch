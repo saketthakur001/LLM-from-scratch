{
 "cells": [
  {
   "cell_type": "code",
   "execution_count": 3,
   "metadata": {},
   "outputs": [],
   "source": [
    "import torch\n",
    "\n",
    "import nltk\n",
    "from nltk.tokenize import word_tokenize\n",
    "from nltk.corpus import stopwords\n",
    "from nltk.stem import WordNetLemmatizer\n",
    "\n",
    "import spacy\n",
    "\n",
    "import string\n",
    "\n",
    "import transformers\n",
    "from transformers import AutoTokenizer"
   ]
  },
  {
   "cell_type": "code",
   "execution_count": 4,
   "metadata": {},
   "outputs": [
    {
     "name": "stderr",
     "output_type": "stream",
     "text": [
      "[nltk_data] Downloading package punkt to\n",
      "[nltk_data]     C:\\Users\\texta\\AppData\\Roaming\\nltk_data...\n",
      "[nltk_data]   Package punkt is already up-to-date!\n",
      "[nltk_data] Downloading package stopwords to\n",
      "[nltk_data]     C:\\Users\\texta\\AppData\\Roaming\\nltk_data...\n",
      "[nltk_data]   Package stopwords is already up-to-date!\n",
      "[nltk_data] Downloading package wordnet to\n",
      "[nltk_data]     C:\\Users\\texta\\AppData\\Roaming\\nltk_data...\n",
      "[nltk_data]   Package wordnet is already up-to-date!\n"
     ]
    }
   ],
   "source": [
    "nltk.download('punkt')\n",
    "nltk.download('stopwords')\n",
    "nltk.download('wordnet')\n",
    "nlp = spacy.load('en_core_web_sm')"
   ]
  },
  {
   "cell_type": "markdown",
   "metadata": {},
   "source": [
    "# tocknizing\n",
    "we will tokanize the data, and store them to a new path cuz it's the text size could be huge to store it in the ram."
   ]
  },
  {
   "cell_type": "code",
   "execution_count": 5,
   "metadata": {},
   "outputs": [],
   "source": [
    "texts = ['No way this is going to work!!?? really?',\n",
    "\"I hope you are wrong.\"]"
   ]
  },
  {
   "cell_type": "code",
   "execution_count": 22,
   "metadata": {},
   "outputs": [
    {
     "data": {
      "text/plain": [
       "{'is': 0,\n",
       " 'way': 1,\n",
       " 'going': 2,\n",
       " 'to': 3,\n",
       " '!': 4,\n",
       " '?': 5,\n",
       " 'work': 6,\n",
       " 'this': 7,\n",
       " 'really': 8,\n",
       " 'no': 9}"
      ]
     },
     "execution_count": 22,
     "metadata": {},
     "output_type": "execute_result"
    }
   ],
   "source": [
    "def processText(text):\n",
    "    text = text.lower()\n",
    "    word = word_tokenize(text)\n",
    "    \n",
    "    spacy_tokens = []\n",
    "    for token in nlp(text):\n",
    "        spacy_tokens.append(token.text)\n",
    "    \n",
    "    # creating a vocablry dict, token to ID mapping\n",
    "    vocab = {}\n",
    "    # print(spacy_tokens)\n",
    "    for idx, token in enumerate(set(spacy_tokens)):\n",
    "        vocab[token]=idx\n",
    "\n",
    "    return vocab, spacy_tokens\n",
    "\n",
    "processText(texts[0])[0]"
   ]
  },
  {
   "cell_type": "code",
   "execution_count": 13,
   "metadata": {},
   "outputs": [
    {
     "ename": "TypeError",
     "evalue": "unhashable type: 'list'",
     "output_type": "error",
     "traceback": [
      "\u001b[1;31m---------------------------------------------------------------------------\u001b[0m",
      "\u001b[1;31mTypeError\u001b[0m                                 Traceback (most recent call last)",
      "Cell \u001b[1;32mIn[13], line 1\u001b[0m\n\u001b[1;32m----> 1\u001b[0m \u001b[43mprocessText\u001b[49m\u001b[43m(\u001b[49m\u001b[43mtexts\u001b[49m\u001b[43m[\u001b[49m\u001b[38;5;241;43m0\u001b[39;49m\u001b[43m]\u001b[49m\u001b[43m)\u001b[49m\n",
      "Cell \u001b[1;32mIn[12], line 11\u001b[0m, in \u001b[0;36mprocessText\u001b[1;34m(text)\u001b[0m\n\u001b[0;32m      9\u001b[0m \u001b[38;5;66;03m# creating a vocablry dict, token to ID mapping\u001b[39;00m\n\u001b[0;32m     10\u001b[0m vocab \u001b[38;5;241m=\u001b[39m {}\n\u001b[1;32m---> 11\u001b[0m \u001b[38;5;28;01mfor\u001b[39;00m idx, token \u001b[38;5;129;01min\u001b[39;00m \u001b[38;5;28menumerate\u001b[39m(\u001b[38;5;28;43mset\u001b[39;49m\u001b[43m(\u001b[49m\u001b[43mspacy_tokens\u001b[49m\u001b[43m)\u001b[49m, start\u001b[38;5;241m=\u001b[39m\u001b[38;5;241m1\u001b[39m):\n\u001b[0;32m     12\u001b[0m     vocab[token]\u001b[38;5;241m=\u001b[39midx\n\u001b[0;32m     14\u001b[0m \u001b[38;5;28;01mreturn\u001b[39;00m vocab, spacy_tokens\n",
      "\u001b[1;31mTypeError\u001b[0m: unhashable type: 'list'"
     ]
    }
   ],
   "source": []
  },
  {
   "cell_type": "markdown",
   "metadata": {},
   "source": [
    "#### iterating through files and storing the tokanized vesrion in the new path loc"
   ]
  },
  {
   "cell_type": "code",
   "execution_count": 15,
   "metadata": {},
   "outputs": [],
   "source": [
    "import os\n",
    "\n",
    "txt_paths = []\n",
    "\n",
    "for root, dirs, files in os.walk('txt'):\n",
    "    for file in files:\n",
    "        if file[0] != '.':\n",
    "            file_path = os.path.join(root, file)\n",
    "            txt_paths.append(file_path)\n"
   ]
  },
  {
   "cell_type": "code",
   "execution_count": 8,
   "metadata": {},
   "outputs": [
    {
     "name": "stdout",
     "output_type": "stream",
     "text": [
      "\n",
      "LINCOLN LETTERS\n",
      "\n",
      "By Abraham Lincoln\n",
      "\n",
      "\n",
      "Published by The Bibilophile Society\n",
      "\n",
      "\n",
      "\n",
      "\n",
      "NOTE\n",
      "\n",
      "The letters herein by Lincoln are so thoroughly characteristic of\n",
      "the man, and are in themselves so completely self-explanatory, that\n",
      "it requires no comment to enable the reader fully to understand and\n",
      "appreciate them. It will be observed that the philosophical\n",
      "admonitions in the letter to his brother, Johnston, were written on\n",
      "the same sheet with the letter to his father.\n",
      "\n",
      "The promptness and decision with which Lincoln despatched the\n",
      "multitudinous affairs of his office during the most turbulent\n",
      "scenes of the Civil War are exemplified in his unequivocal order to\n",
      "the Attorney-General, indorsed on the back of the letter of Hon.\n",
      "Austin A. King, requesting a pardon for John B. Corner. The\n",
      "indorsement bears even date with the letter itself, and Corner was\n",
      "pardoned on the following day.\n",
      "\n",
      "\n",
      "THE ORIGINALS FROM WHICH THE WITHIN FACSIMILES WERE MADE ARE IN THE\n",
      "COLLECTION OF MR. WILLIAM K. BIXBY, AND THROUGH HIS COURTESY THEY\n",
      "ARE REPRODUCED FOR MEMBERS OF THE BIBLIOPHILE SOCIETY\n",
      "\n",
      "\n",
      "[Illustration: 01 TO HIS FATHER]\n",
      "\n",
      "\n",
      "[Illustration: 02 TO HIS BROTHER]\n",
      "\n",
      "\n",
      "[Illustration: 03 TO HIS BROTHER]\n",
      "\n",
      "\n",
      "\n",
      "\n",
      "Washington, Dec. 24th, 1848.\n",
      "\n",
      "My dear father:--\n",
      "\n",
      "Your letter of the 7th was received night before last. I very\n",
      "cheerfully send you the twenty dollars, which sum you say is\n",
      "necessary to save your land from sale. It is singular that you\n",
      "should have forgotten a judgment against you; and it is more\n",
      "singular that the plaintiff should have let you forget it so long,\n",
      "particularly as I suppose you have always had property enough to\n",
      "satisfy a judgment of that amount. Before you pay it, it would be\n",
      "well to be sure you have not paid it; or, at least, that you can\n",
      "not prove you have paid it. Give my love to Mother, and all the\n",
      "connections.\n",
      "\n",
      "Affectionately your son,\n",
      "\n",
      "A. LINCOLN.\n",
      "\n",
      "\n",
      "[Written on same page with above.]\n",
      "\n",
      "Dear Johnston:--\n",
      "\n",
      "Your request for eighty dollars, I do not think it best to comply\n",
      "with now. At the various times when I have helped you a little, you\n",
      "have said to me, \"We can get along very well now,\" but in a very\n",
      "short time I find you in the same difficulty again. Now this can\n",
      "only happen by some defect in your conduct. What that defect is, I\n",
      "think I know. You are not _lazy_, and still you _are_ an _idler_. I\n",
      "doubt whether since I saw you, you have done a good whole day's\n",
      "work, in any one day. You do not very much dislike to work, and\n",
      "still you do not work much, merely because it does not seem to you\n",
      "that you could get much for it. This habit of uselessly wasting\n",
      "time, is the whole difficulty; and it is vastly important to you,\n",
      "and still more so to your children, that you should break this\n",
      "habit. It is more important to them, because they have longer to\n",
      "live, and can keep out of an idle habit before they are in it\n",
      "easier than they can get out after they are in.\n",
      "\n",
      "You are now in need of some ready money; and what I propose is,\n",
      "that you shall go to work, \"tooth and nail,\" for somebody who will\n",
      "give you money for it. Let father and your boys take charge of\n",
      "things at home--prepare for a crop, and make the crop; and you go\n",
      "to work for the best money wages, or in discharge of any debt you\n",
      "owe, that you can get. And to secure you a fair reward for your\n",
      "labor, I now promise you that for every dollar you will, between\n",
      "this and the first of next May, get for your own labor either in\n",
      "money or in your own indebtedness, I will then give you one other\n",
      "dollar. By this, if you hire yourself at ten dollars a month, from\n",
      "me you will get ten more, making twenty dollars a month for your\n",
      "work. In this, I do not mean you shall go off to St. Louis, or the\n",
      "lead mines, or the gold mines, in California, but I mean for you to\n",
      "go at it for the best wages you can get close to home, in Coles\n",
      "County. Now if you will do this, you will soon be out of debt, and\n",
      "what is better, you will have a habit that will keep you from\n",
      "getting in debt again. But if I should now clear you out, next year\n",
      "you will be just as deep in as ever. You say you would almost give\n",
      "your place in Heaven for $70 or $80. Then you value your place in\n",
      "Heaven very cheaply, for I am sure you can with the offer I make\n",
      "you get the seventy or eighty dollars for four or five months'\n",
      "work. You say if I furnish you the money you will deed me the\n",
      "land, and if you don't pay the money back, you will deliver\n",
      "possession--Nonsense! If you can't now live _with_ the land, how will\n",
      "you then live without it? You have always been kind to me, and I do not\n",
      "now mean to be unkind to you. On the contrary, if you will but follow my\n",
      "advice, you will find it worth more than eight times eighty dollars to\n",
      "you.\n",
      "\n",
      "Affectionately your brother,\n",
      "\n",
      "A. LINCOLN.\n",
      "\n",
      "\n",
      "[Illustration: 04 TO GENERAL GRANT]\n",
      "\n",
      "\n",
      "\n",
      "\n",
      "Washington, April 30, 1864.\n",
      "\n",
      "Executive Mansion,\n",
      "\n",
      "Lieutenant-General Grant,--\n",
      "\n",
      "Not expecting to see you again before the spring campaign opens, I\n",
      "wish to express, in this way, my entire satisfaction with what you\n",
      "have done up to this time, so far as I understand it. The\n",
      "particulars of your plans I neither know, or seek to know. You are\n",
      "vigilant and self reliant; and, pleased with this, I wish not to\n",
      "obtrude any constraints or restraints upon you. While I am very\n",
      "anxious that any great disaster, or the capture of our men in great\n",
      "numbers, shall be avoided, I know these points are less likely to\n",
      "escape your attention than they would be mine. If there is anything\n",
      "wanting which is within my power to give, do not fail to let me\n",
      "know it.\n",
      "\n",
      "And now with a brave Army, and a just cause, may God sustain you.\n",
      "\n",
      "Yours very truly,\n",
      "\n",
      "A. LINCOLN.\n",
      "\n",
      "\n",
      "\n",
      "[Illustration: 05 REQUEST FOR A PARDON]\n",
      "\n",
      "\n",
      "[Illustration: 06 REQUEST FOR A PARDON]\n",
      "\n",
      "\n",
      "[Illustration: 07 APPROVAL OF A PARDON]\n",
      "\n",
      "\n",
      "\n",
      "\n",
      "\n"
     ]
    }
   ],
   "source": [
    "with open(txt_paths[0], 'r', encoding='utf-8') as txt:\n",
    "    print(txt.read())"
   ]
  },
  {
   "cell_type": "code",
   "execution_count": null,
   "metadata": {},
   "outputs": [],
   "source": []
  }
 ],
 "metadata": {
  "kernelspec": {
   "display_name": "pytorch",
   "language": "python",
   "name": "python3"
  },
  "language_info": {
   "codemirror_mode": {
    "name": "ipython",
    "version": 3
   },
   "file_extension": ".py",
   "mimetype": "text/x-python",
   "name": "python",
   "nbconvert_exporter": "python",
   "pygments_lexer": "ipython3",
   "version": "3.12.3"
  }
 },
 "nbformat": 4,
 "nbformat_minor": 2
}
